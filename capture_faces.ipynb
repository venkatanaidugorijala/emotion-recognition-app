{
 "cells": [
  {
   "cell_type": "code",
   "execution_count": null,
   "id": "49d9ef9c",
   "metadata": {},
   "outputs": [],
   "source": [
    "import os\n",
    "import cv2\n",
    "\n",
    "# Define the base path to save images\n",
    "base_directory = r'C:\\Users\\gorij\\face-recognition\\recognition dataset'\n",
    "\n",
    "# Number of samples to capture\n",
    "samples_per_person = 400  # Number of samples to capture for each person\n",
    "\n",
    "# Initialize webcam\n",
    "cam = cv2.VideoCapture(0)\n",
    "cam.set(3, 640)  # Set video width\n",
    "cam.set(4, 480)  # Set video height\n",
    "\n",
    "# Get the person's name\n",
    "person_name = input(\"Enter the person's name: \")\n",
    "person_directory = os.path.join(base_directory, person_name)\n",
    "\n",
    "# Create directory for the person if it does not exist\n",
    "if not os.path.exists(person_directory):\n",
    "    os.makedirs(person_directory)\n",
    "\n",
    "# Load the HAAR face classifier\n",
    "face_detector = cv2.CascadeClassifier(r'C:\\Users\\gorij\\face-recognition\\haarcascade_frontalface_default.xml')\n",
    "\n",
    "print(f\"[INFO] Capturing {samples_per_person} images for {person_name}...\")\n",
    "\n",
    "count = 0\n",
    "while count < samples_per_person:\n",
    "    ret, img = cam.read()\n",
    "    gray = cv2.cvtColor(img, cv2.COLOR_BGR2GRAY)  # Convert the image to grayscale\n",
    "    faces = face_detector.detectMultiScale(gray, 1.3, 5)\n",
    "\n",
    "    for (x, y, w, h) in faces:\n",
    "        count += 1\n",
    "        # Save the captured face as a grayscale image\n",
    "        face_img = gray[y:y+h, x:x+w]\n",
    "        cv2.imwrite(os.path.join(person_directory, f\"{person_name}_{count}.jpg\"), face_img)\n",
    "\n",
    "        # Draw rectangle around the detected face\n",
    "        cv2.rectangle(img, (x, y), (x + w, y + h), (255, 0, 0), 2)\n",
    "\n",
    "    # Display the person being captured\n",
    "    cv2.putText(img, f'Capturing: {person_name}', (10, 30), cv2.FONT_HERSHEY_SIMPLEX, 1, (255, 255, 255), 2)\n",
    "\n",
    "    cv2.imshow('Capturing Faces', img)\n",
    "\n",
    "    # Break the loop if ESC is pressed\n",
    "    if cv2.waitKey(100) & 0xFF == 27:\n",
    "        break\n",
    "\n",
    "print(f\"\\n[INFO] {samples_per_person} images for {person_name} captured successfully!\")\n",
    "cam.release()\n",
    "cv2.destroyAllWindows()\n"
   ]
  },
  {
   "cell_type": "code",
   "execution_count": null,
   "id": "c0c05ea7",
   "metadata": {},
   "outputs": [],
   "source": []
  },
  {
   "cell_type": "code",
   "execution_count": null,
   "id": "83810c34",
   "metadata": {},
   "outputs": [],
   "source": []
  }
 ],
 "metadata": {
  "kernelspec": {
   "display_name": "Python 3",
   "language": "python",
   "name": "python3"
  },
  "language_info": {
   "codemirror_mode": {
    "name": "ipython",
    "version": 3
   },
   "file_extension": ".py",
   "mimetype": "text/x-python",
   "name": "python",
   "nbconvert_exporter": "python",
   "pygments_lexer": "ipython3",
   "version": "3.8.10"
  }
 },
 "nbformat": 4,
 "nbformat_minor": 5
}
